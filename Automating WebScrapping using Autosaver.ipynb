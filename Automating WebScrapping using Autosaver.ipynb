{
 "cells": [
  {
   "cell_type": "code",
   "execution_count": 1,
   "id": "e06ac6e1",
   "metadata": {},
   "outputs": [],
   "source": [
    "# pip install autoscraper"
   ]
  },
  {
   "cell_type": "code",
   "execution_count": 2,
   "id": "62968806",
   "metadata": {},
   "outputs": [],
   "source": [
    "from autoscraper import AutoScraper"
   ]
  },
  {
   "cell_type": "code",
   "execution_count": 3,
   "id": "5ad54c9a",
   "metadata": {},
   "outputs": [],
   "source": [
    "amazon_url=\"https://www.amazon.in/s?k=iphone\"\n",
    "\n",
    "wanted_list=[\"₹1,28,900 \",\"Apple iPhone 12 (64GB) - Green\"]"
   ]
  },
  {
   "cell_type": "code",
   "execution_count": 4,
   "id": "176e5771",
   "metadata": {},
   "outputs": [
    {
     "name": "stdout",
     "output_type": "stream",
     "text": [
      "['₹76,900', '₹89,900', '₹53,999', '₹65,900', '₹1,07,900', '₹1,19,900', '₹1,28,900', '₹1,39,900', '₹59,490', '₹64,900', '₹75,999', '₹58,999', '₹70,900', '₹39,999', '₹49,900', '₹73,999', '₹79,900', 'Apple iPhone 13 (256 GB) - Green', 'Apple iPhone 12 (64GB) - Purple', 'Apple iPhone 13 Pro (128GB) - Sierra Blue', 'Apple iPhone 13 Pro Max (256GB) - Sierra Blue', 'Apple iPhone 12 Mini (128GB) - White', 'Apple iPhone 12 (64GB) - Black', 'Apple iPhone 13 (256GB) - Blue', 'Apple iPhone 13 (256GB) - Pink', 'Apple iPhone 12 (128GB) - Green', 'Apple iPhone 12 (64GB) - Green', 'Apple iPhone 12 (64GB) - White', 'Apple iPhone 13 (256GB) - Starlight', 'Apple iPhone 11 (64GB) - Purple', 'Apple iPhone 13 (256GB) - Midnight', 'Apple iPhone 13 Mini (256GB) - Pink', 'Apple iPhone 13 Pro (128 GB) - Alpine Green']\n"
     ]
    }
   ],
   "source": [
    "scraper=AutoScraper()\n",
    "result=scraper.build(amazon_url,wanted_list)\n",
    "print(result)"
   ]
  },
  {
   "cell_type": "code",
   "execution_count": 5,
   "id": "992794b1",
   "metadata": {
    "scrolled": true
   },
   "outputs": [
    {
     "data": {
      "text/plain": [
       "{'rule_j26o': ['₹53,999',\n",
       "  '₹65,900',\n",
       "  '₹76,900',\n",
       "  '₹89,900',\n",
       "  '₹75,999',\n",
       "  '₹89,900',\n",
       "  '₹39,999',\n",
       "  '₹49,900',\n",
       "  '₹53,999',\n",
       "  '₹65,900',\n",
       "  '₹73,999',\n",
       "  '₹79,900',\n",
       "  '₹75,999',\n",
       "  '₹89,900',\n",
       "  '₹53,999',\n",
       "  '₹65,900',\n",
       "  '₹75,999',\n",
       "  '₹89,900',\n",
       "  '₹1,07,900',\n",
       "  '₹1,19,900',\n",
       "  '₹53,999',\n",
       "  '₹65,900',\n",
       "  '₹75,999',\n",
       "  '₹89,900',\n",
       "  '₹75,999',\n",
       "  '₹89,900',\n",
       "  '₹48,900',\n",
       "  '₹1,17,900',\n",
       "  '₹1,29,900',\n",
       "  '₹1,07,900',\n",
       "  '₹1,19,900'],\n",
       " 'rule_1tud': ['₹53,999',\n",
       "  '₹65,900',\n",
       "  '₹76,900',\n",
       "  '₹89,900',\n",
       "  '₹75,999',\n",
       "  '₹89,900',\n",
       "  '₹39,999',\n",
       "  '₹49,900',\n",
       "  '₹53,999',\n",
       "  '₹65,900',\n",
       "  '₹73,999',\n",
       "  '₹79,900',\n",
       "  '₹75,999',\n",
       "  '₹89,900',\n",
       "  '₹53,999',\n",
       "  '₹65,900',\n",
       "  '₹75,999',\n",
       "  '₹89,900',\n",
       "  '₹1,07,900',\n",
       "  '₹1,19,900',\n",
       "  '₹53,999',\n",
       "  '₹65,900',\n",
       "  '₹75,999',\n",
       "  '₹89,900',\n",
       "  '₹75,999',\n",
       "  '₹89,900',\n",
       "  '₹48,900',\n",
       "  '₹1,17,900',\n",
       "  '₹1,29,900',\n",
       "  '₹1,07,900',\n",
       "  '₹1,19,900'],\n",
       " 'rule_6sfo': ['₹53,999', '₹65,900', '₹1,28,900', '₹1,39,900'],\n",
       " 'rule_7cxc': ['₹53,999', '₹65,900', '₹1,28,900', '₹1,39,900'],\n",
       " 'rule_8src': ['Apple iPhone 12 (64GB) - Green',\n",
       "  'Apple iPhone 13 (256 GB) - Green',\n",
       "  'Apple iPhone 13 (256GB) - Blue',\n",
       "  'Apple iPhone 11 (64GB) - Purple',\n",
       "  'Apple iPhone 12 (64GB) - Black',\n",
       "  'Apple iPhone 13 Mini (256GB) - Pink',\n",
       "  'Apple iPhone 13 (256GB) - Pink',\n",
       "  'Apple iPhone 12 (64GB) - White',\n",
       "  'Apple iPhone 13 (256GB) - Starlight',\n",
       "  'Apple iPhone 13 Pro (128GB) - Sierra Blue',\n",
       "  'Apple iPhone 12 (64GB) - Purple',\n",
       "  'Apple iPhone 13 (256GB) - Midnight',\n",
       "  'Apple iPhone 13 (256GB) - (Product) RED',\n",
       "  'Apple iPhone SE (128 GB) - (Product) RED (3rd Generation)',\n",
       "  'Apple iPhone 13 Pro (256 GB) - Alpine Green',\n",
       "  'Apple iPhone 13 Pro (128 GB) - Alpine Green'],\n",
       " 'rule_bnt5': ['Apple iPhone 12 (64GB) - Green',\n",
       "  'Apple iPhone 13 (256 GB) - Green',\n",
       "  'Apple iPhone 13 (256GB) - Blue',\n",
       "  'Apple iPhone 11 (64GB) - Purple',\n",
       "  'Apple iPhone 12 (64GB) - Black',\n",
       "  'Apple iPhone 13 Mini (256GB) - Pink',\n",
       "  'Apple iPhone 13 (256GB) - Pink',\n",
       "  'Apple iPhone 12 (64GB) - White',\n",
       "  'Apple iPhone 13 (256GB) - Starlight',\n",
       "  'Apple iPhone 13 Pro (128GB) - Sierra Blue',\n",
       "  'Apple iPhone 12 (64GB) - Purple',\n",
       "  'Apple iPhone 13 (256GB) - Midnight',\n",
       "  'Apple iPhone 13 (256GB) - (Product) RED',\n",
       "  'Apple iPhone SE (128 GB) - (Product) RED (3rd Generation)',\n",
       "  'Apple iPhone 13 Pro (256 GB) - Alpine Green',\n",
       "  'Apple iPhone 13 Pro (128 GB) - Alpine Green']}"
      ]
     },
     "execution_count": 5,
     "metadata": {},
     "output_type": "execute_result"
    }
   ],
   "source": [
    "scraper.get_result_similar(amazon_url,grouped=True)"
   ]
  },
  {
   "cell_type": "code",
   "execution_count": 7,
   "id": "bd8c4109",
   "metadata": {},
   "outputs": [],
   "source": [
    "scraper.set_rule_aliases({'rule_bnt5':'Title','rule_1tud':'Price'})\n",
    "scraper.keep_rules(['rule_bnt5','rule_1tud'])\n",
    "scraper.save('amazon-search')"
   ]
  },
  {
   "cell_type": "code",
   "execution_count": 8,
   "id": "00e65362",
   "metadata": {},
   "outputs": [],
   "source": [
    "result=scraper.get_result_similar('https://www.amazon.in/s?k=realme+phones+under+15000',group_by_alias=True)"
   ]
  },
  {
   "cell_type": "code",
   "execution_count": 9,
   "id": "38ecc1de",
   "metadata": {},
   "outputs": [
    {
     "data": {
      "text/plain": [
       "['realme narzo 50i (Carbon Black, 4GB RAM+64GB Storage) - 6.5',\n",
       " 'realme narzo 50A (Oxygen Blue , 4GB RAM + 128 GB Storage) Helio G85 Processor | 6000 mAh Battery',\n",
       " 'realme narzo 50A Prime (Flash Blue, 4GB RAM+128GB Storage) FHD+ Display | 50MP AI Triple Camera (No Charger Variant)',\n",
       " 'realme narzo 50i (Carbon Black, 2GB RAM+32GB Storage) - 6.5',\n",
       " 'realme 8i (Space Purple, 4GB RAM, 64GB Storage), Medium',\n",
       " 'Realme 9 5G (Meteor Black, 4GB RAM, 64GB Storage)',\n",
       " 'realme narzo 50 (Speed Blue, 4GB RAM+64GB Storage) Helio G96 Processor | 50MP AI Triple Camera | 120Hz Ultra Smooth Display',\n",
       " 'realme narzo 50i (Mint Green, 4GB RAM+64GB Storage) - 6.5',\n",
       " 'realme C11 (2021) (Cool Grey, 2GB RAM, 32GB Storage) with No Cost EMI/Additional Exchange Offers',\n",
       " 'realme narzo 50i (Mint Green, 2GB RAM+32GB Storage) - 6.5',\n",
       " 'realme narzo 50A Prime (Flash Black, 4GB RAM+64GB Storage) FHD+ Display | 50MP AI Triple Camera (No Charger Variant)',\n",
       " 'realme narzo 50A Prime (Flash Blue, 4GB RAM+64GB Storage) FHD+ Display | 50MP AI Triple Camera (No Charger Variant)',\n",
       " 'realme narzo 50A (Oxygen Blue , 4GB RAM + 64 GB Storage) Helio G85 Processor | 6000 mAh Battery',\n",
       " 'realme 9 5G (Supersonic Blue, 4GB RAM, 64GB Storage)',\n",
       " 'realme narzo 50A (Oxygen Green , 4GB RAM + 128 GB Storage) Helio G85 Processor | 6000 mAh Battery',\n",
       " 'realme 9i (Prism Black, 64 GB)  (4 GB RAM)']"
      ]
     },
     "execution_count": 9,
     "metadata": {},
     "output_type": "execute_result"
    }
   ],
   "source": [
    "result['Title']"
   ]
  },
  {
   "cell_type": "code",
   "execution_count": 10,
   "id": "36becce3",
   "metadata": {},
   "outputs": [
    {
     "data": {
      "text/plain": [
       "['₹8,999',\n",
       " '₹9,999',\n",
       " '₹11,499',\n",
       " '₹13,999',\n",
       " '₹12,499',\n",
       " '₹14,449',\n",
       " '₹7,499',\n",
       " '₹7,999',\n",
       " '₹12,648',\n",
       " '₹15,999',\n",
       " '₹14,770',\n",
       " '₹18,999',\n",
       " '₹12,999',\n",
       " '₹15,999',\n",
       " '₹8,999',\n",
       " '₹9,999',\n",
       " '₹7,299',\n",
       " '₹7,999',\n",
       " '₹7,499',\n",
       " '₹7,999',\n",
       " '₹11,499',\n",
       " '₹13,499',\n",
       " '₹11,499',\n",
       " '₹13,499',\n",
       " '₹10,499',\n",
       " '₹12,999',\n",
       " '₹14,680',\n",
       " '₹18,999',\n",
       " '₹11,499',\n",
       " '₹13,999',\n",
       " '₹13,379',\n",
       " '₹14,990']"
      ]
     },
     "execution_count": 10,
     "metadata": {},
     "output_type": "execute_result"
    }
   ],
   "source": [
    "result['Price']"
   ]
  },
  {
   "cell_type": "code",
   "execution_count": null,
   "id": "d66951aa",
   "metadata": {},
   "outputs": [],
   "source": []
  }
 ],
 "metadata": {
  "kernelspec": {
   "display_name": "Python 3",
   "language": "python",
   "name": "python3"
  },
  "language_info": {
   "codemirror_mode": {
    "name": "ipython",
    "version": 3
   },
   "file_extension": ".py",
   "mimetype": "text/x-python",
   "name": "python",
   "nbconvert_exporter": "python",
   "pygments_lexer": "ipython3",
   "version": "3.8.8"
  }
 },
 "nbformat": 4,
 "nbformat_minor": 5
}
